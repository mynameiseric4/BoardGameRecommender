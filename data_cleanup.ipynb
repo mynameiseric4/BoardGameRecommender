{
 "cells": [
  {
   "cell_type": "code",
   "execution_count": 1,
   "metadata": {
    "collapsed": true
   },
   "outputs": [],
   "source": [
    "import pandas as pd\n",
    "import numpy as np\n",
    "from collections import Counter\n",
    "\n",
    "bg_data = pd.read_csv('data/boardgame_data.csv')\n",
    "bg_data = bg_data.drop('Unnamed: 0', axis=1)\n",
    "ind = []\n",
    "bg_data['Year Published'] = bg_data['Year Published'].apply(lambda x: x.strip('\\(\\)'))\n",
    "for i in xrange(len(bg_data)):\n",
    "    try:\n",
    "        int(bg_data['Year Published'][i])\n",
    "    except ValueError:\n",
    "        ind.append(i)\n",
    "for i in ind:\n",
    "    try:\n",
    "        bg_data.set_value(i, 'Title', bg_data['Title'][i]+' '+bg_data['Year Published'][i])\n",
    "        bg_data.set_value(i, 'Year Published', 0)\n",
    "    except TypeError:\n",
    "        bg_data.set_value(i, 'Title', bg_data['Year Published'][i])\n",
    "        bg_data.set_value(i, 'Year Published', 0)\n",
    "bg_data['Year Published'] = pd.to_numeric(bg_data['Year Published'], errors='ignore')\n",
    "bg_data['Year Published'] = bg_data['Year Published'].astype(int)\n",
    "bg_data['Min Playing Time'] = bg_data['Play Time'].apply(lambda x: x.split(',')[0].strip('[]'))\n",
    "bg_data['Max Playing Time'] = bg_data['Play Time'].apply(lambda x: x.split(',')[1].strip('[]'))\n",
    "bg_data = bg_data.drop('Play Time', axis=1)\n",
    "bg_data['Min Playing Time'] = pd.to_numeric(bg_data['Min Playing Time'], errors='coerce')\n",
    "bg_data['Max Playing Time'] = pd.to_numeric(bg_data['Max Playing Time'], errors='coerce')\n",
    "bg_data['Min Playing Time'] = bg_data['Min Playing Time'].fillna(0)\n",
    "bg_data['Max Playing Time'] = bg_data['Max Playing Time'].fillna(0)\n",
    "bg_data['Min Playing Time'] = bg_data['Min Playing Time'].astype(int)\n",
    "bg_data['Max Playing Time'] = bg_data['Max Playing Time'].astype(int)\n",
    "bg_data['Age'] = pd.to_numeric(bg_data['Age'], errors='coerce')\n",
    "bg_data['Age'] = bg_data['Age'].fillna(bg_data['Age'].mean())\n",
    "bg_data['Age'] = bg_data['Age'].astype(int)\n",
    "bg_data['Complexity'] = bg_data['Complexity'].astype(float)\n",
    "bg_data['Min Players'] = pd.to_numeric(bg_data['Min Players'], errors='coerce')\n",
    "bg_data['Min Players'] = bg_data['Min Players'].fillna(bg_data['Min Players'].mean())\n",
    "bg_data['Min Players'] = bg_data['Min Players'].astype(int)\n",
    "bg_data['Max Players'] = pd.to_numeric(bg_data['Max Players'], errors='coerce')\n",
    "bg_data['Max Players'] = bg_data['Max Players'].fillna(bg_data['Max Players'].mean())\n",
    "bg_data['Max Players'] = bg_data['Max Players'].astype(int)\n",
    "bg_data['Min Best Players'] = bg_data['Best Players'].apply(lambda x: x.split('\\xe2\\x80\\x93')[0].strip('+'))\n",
    "bg_data['Min Best Players'] = pd.to_numeric(bg_data['Min Best Players'], errors='coerce')\n",
    "bg_data['Min Best Players'] = bg_data['Min Best Players'].fillna(bg_data['Min Best Players'].mean())\n",
    "bg_data['Min Best Players'] = bg_data['Min Best Players'].astype(int)\n",
    "bg_data['Max Best Players'] = bg_data['Best Players']\n",
    "for i in xrange(len(bg_data)):\n",
    "    bg_data.set_value(i, 'Designers', bg_data.loc[i, 'Designers'].strip('[]').split(', '))\n",
    "    bg_data.set_value(i, 'Artists', bg_data.loc[i, 'Artists'].strip('[]').split(', '))\n",
    "    bg_data.set_value(i, 'Publishers', bg_data.loc[i, 'Publishers'].strip('[]').split(', '))\n",
    "    bg_data.set_value(i, 'Categories', bg_data.loc[i, 'Categories'].strip('[]').split(', '))\n",
    "    bg_data.set_value(i, 'Mechanisms', bg_data.loc[i, 'Mechanisms'].strip('[]').split(', '))\n",
    "    try:\n",
    "        bg_data.set_value(i, 'Max Best Players', bg_data['Best Players'][i].split('\\xe2\\x80\\x93')[1].strip('+'))\n",
    "    except IndexError:\n",
    "        bg_data.set_value(i, 'Max Best Players', bg_data['Best Players'][i].split('\\xe2\\x80\\x93')[0].strip('+'))\n",
    "bg_data['Max Best Players'] = pd.to_numeric(bg_data['Max Best Players'], errors='coerce')\n",
    "bg_data['Max Best Players'] = bg_data['Max Best Players'].fillna(bg_data['Max Best Players'].mean())\n",
    "bg_data['Max Best Players'] = bg_data['Max Best Players'].astype(int)\n",
    "bg_data = bg_data.drop('Best Players', axis=1)\n",
    "\n",
    "bg_ranking_data = pd.read_csv('data/game_rankings.csv')\n",
    "bg_ranking_data['Year Published'] = bg_ranking_data['Year Published'].fillna(0)\n",
    "bg_ranking_data['Year Published'] = bg_ranking_data['Year Published'].astype(int)\n",
    "bg_ranking_data['Title'] = bg_ranking_data['Title'].apply(lambda x: x.strip())\n",
    "full_dataset_inner = pd.merge(bg_data, bg_ranking_data, how='inner', on=['Title', 'Year Published'], left_on=None, right_on=None,\n",
    "         left_index=False, right_index=False, sort=True,\n",
    "         suffixes=('_x', '_y'), copy=True, indicator=False)\n",
    "full_dataset_inner.drop(2220, inplace=True)\n",
    "full_dataset_inner.drop(2221, inplace=True)\n",
    "full_dataset_inner.drop(2518, inplace=True)\n",
    "full_dataset_inner.drop(2519, inplace=True)\n",
    "full_dataset_inner.drop(6568, inplace=True)\n",
    "full_dataset_inner.drop(6569, inplace=True)\n",
    "\n",
    "full_dataset = pd.merge(bg_data, bg_ranking_data, how='outer', on=['Title', 'Year Published'], left_on=None, right_on=None,\n",
    "         left_index=False, right_index=False, sort=True,\n",
    "         suffixes=('_x', '_y'), copy=True, indicator=False)\n",
    "full_dataset.drop(2582, inplace=True)\n",
    "full_dataset.drop(2268, inplace=True)\n",
    "full_dataset.drop(2269, inplace=True)\n",
    "full_dataset.drop(2581, inplace=True)\n",
    "full_dataset.drop(6735, inplace=True)\n",
    "full_dataset.drop(6736, inplace=True)"
   ]
  },
  {
   "cell_type": "code",
   "execution_count": 2,
   "metadata": {
    "collapsed": false
   },
   "outputs": [
    {
     "name": "stdout",
     "output_type": "stream",
     "text": [
      "<class 'pandas.core.frame.DataFrame'>\n",
      "Int64Index: 13612 entries, 0 to 13617\n",
      "Data columns (total 19 columns):\n",
      "Title               13612 non-null object\n",
      "Year Published      13612 non-null int64\n",
      "Min Players         13502 non-null float64\n",
      "Max Players         13502 non-null float64\n",
      "Age                 13502 non-null float64\n",
      "Complexity          13502 non-null float64\n",
      "Designers           13502 non-null object\n",
      "Artists             13502 non-null object\n",
      "Publishers          13502 non-null object\n",
      "Categories          13502 non-null object\n",
      "Mechanisms          13502 non-null object\n",
      "Min Playing Time    13502 non-null float64\n",
      "Max Playing Time    13502 non-null float64\n",
      "Min Best Players    13502 non-null float64\n",
      "Max Best Players    13502 non-null float64\n",
      "Rank                13400 non-null float64\n",
      "Geek Rating         13400 non-null float64\n",
      "Avg Rating          13400 non-null float64\n",
      "Num Ratings         13400 non-null float64\n",
      "dtypes: float64(12), int64(1), object(6)\n",
      "memory usage: 2.1+ MB\n"
     ]
    }
   ],
   "source": [
    "full_dataset.info()"
   ]
  },
  {
   "cell_type": "code",
   "execution_count": 3,
   "metadata": {
    "collapsed": false
   },
   "outputs": [
    {
     "name": "stdout",
     "output_type": "stream",
     "text": [
      "<class 'pandas.core.frame.DataFrame'>\n",
      "Int64Index: 13290 entries, 0 to 13295\n",
      "Data columns (total 19 columns):\n",
      "Title               13290 non-null object\n",
      "Year Published      13290 non-null int64\n",
      "Min Players         13290 non-null int64\n",
      "Max Players         13290 non-null int64\n",
      "Age                 13290 non-null int64\n",
      "Complexity          13290 non-null float64\n",
      "Designers           13290 non-null object\n",
      "Artists             13290 non-null object\n",
      "Publishers          13290 non-null object\n",
      "Categories          13290 non-null object\n",
      "Mechanisms          13290 non-null object\n",
      "Min Playing Time    13290 non-null int64\n",
      "Max Playing Time    13290 non-null int64\n",
      "Min Best Players    13290 non-null int64\n",
      "Max Best Players    13290 non-null int64\n",
      "Rank                13290 non-null int64\n",
      "Geek Rating         13290 non-null float64\n",
      "Avg Rating          13290 non-null float64\n",
      "Num Ratings         13290 non-null int64\n",
      "dtypes: float64(3), int64(10), object(6)\n",
      "memory usage: 2.0+ MB\n"
     ]
    }
   ],
   "source": [
    "full_dataset_inner.info()"
   ]
  },
  {
   "cell_type": "code",
   "execution_count": null,
   "metadata": {
    "collapsed": true
   },
   "outputs": [],
   "source": []
  }
 ],
 "metadata": {
  "anaconda-cloud": {},
  "kernelspec": {
   "display_name": "Python [default]",
   "language": "python",
   "name": "python2"
  },
  "language_info": {
   "codemirror_mode": {
    "name": "ipython",
    "version": 2
   },
   "file_extension": ".py",
   "mimetype": "text/x-python",
   "name": "python",
   "nbconvert_exporter": "python",
   "pygments_lexer": "ipython2",
   "version": "2.7.12"
  }
 },
 "nbformat": 4,
 "nbformat_minor": 1
}
