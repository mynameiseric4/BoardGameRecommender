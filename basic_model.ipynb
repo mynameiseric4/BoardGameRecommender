{
 "cells": [
  {
   "cell_type": "code",
   "execution_count": 214,
   "metadata": {
    "collapsed": false
   },
   "outputs": [],
   "source": [
    "import pyspark as ps\n",
    "from pyspark.sql import SparkSession\n",
    "from pyspark.ml.evaluation import RegressionEvaluator\n",
    "from pyspark.sql import Row\n",
    "from pyspark.ml.recommendation import ALS, ALSModel\n",
    "import pandas as pd\n",
    "import numpy as np\n",
    "from itertools import product\n",
    "import matplotlib.pyplot as plt\n",
    "%matplotlib inline"
   ]
  },
  {
   "cell_type": "code",
   "execution_count": 2,
   "metadata": {
    "collapsed": false
   },
   "outputs": [],
   "source": [
    "spark = SparkSession.builder.master('local[4]').getOrCreate()"
   ]
  },
  {
   "cell_type": "code",
   "execution_count": null,
   "metadata": {
    "collapsed": false
   },
   "outputs": [],
   "source": [
    "# ratings_df = pd.read_csv('data/wa_ratings_data.csv')\n",
    "# ratings_df = ratings_df.rename(columns={'Unnamed: 0':'Username'})\n",
    "# ratings_df = ratings_df.set_index('Username')\n",
    "# ratings_df.drop('Unnamed: 1', axis=1, inplace=True)\n",
    "# ind = []\n",
    "# for index in ratings_df.index:\n",
    "#     if ratings_df.loc[index, :].isnull().all() == True:\n",
    "#         ind.append(index)\n",
    "# ratings_df.drop(ind, inplace=True)\n",
    "# als_data = ratings_df.stack().reset_index().rename(columns={'Username':'user','level_1':'board_game', 0:'rating'})\n",
    "# board_games = dict(enumerate(ratings_df.columns))\n",
    "# board_game_index = dict((y,x) for x,y in board_games.iteritems())\n",
    "# for game in board_game_index.keys():\n",
    "#     als_data['board_game'].replace(to_replace=game, value=board_game_index[game], inplace=True)\n",
    "# users = dict(enumerate(ratings_df.index))\n",
    "# user_index = dict((y,x) for x,y in users.iteritems())\n",
    "# for user in user_index.keys():\n",
    "#     als_data['user'].replace(to_replace=user, value=user_index[user], inplace=True)\n",
    "# users = dict(enumerate(ratings_df.index))\n",
    "# user_index = dict((y,x) for x,y in users.iteritems())\n",
    "# for user in user_index.keys():\n",
    "#     als_data['user'].replace(to_replace=user, value=user_index[user], inplace=True)"
   ]
  },
  {
   "cell_type": "code",
   "execution_count": 3,
   "metadata": {
    "collapsed": true
   },
   "outputs": [],
   "source": [
    "board_game_index = np.load('board_game_dict.npy').item()\n",
    "user_index = np.load('wa_user_dict.npy').item()\n",
    "als_data = pd.read_csv('als_ready_wa_ratings_data.csv')\n",
    "board_games = dict((y,x) for x,y in board_game_index.iteritems())"
   ]
  },
  {
   "cell_type": "code",
   "execution_count": 4,
   "metadata": {
    "collapsed": false
   },
   "outputs": [
    {
     "name": "stdout",
     "output_type": "stream",
     "text": [
      "<class 'pandas.core.frame.DataFrame'>\n",
      "RangeIndex: 128417 entries, 0 to 128416\n",
      "Data columns (total 4 columns):\n",
      "Unnamed: 0    128417 non-null int64\n",
      "user          128417 non-null int64\n",
      "board_game    128417 non-null int64\n",
      "rating        128417 non-null float64\n",
      "dtypes: float64(1), int64(3)\n",
      "memory usage: 3.9 MB\n"
     ]
    }
   ],
   "source": [
    "als_data.info()"
   ]
  },
  {
   "cell_type": "code",
   "execution_count": 5,
   "metadata": {
    "collapsed": false
   },
   "outputs": [],
   "source": [
    "als_small_index = np.random.randint(0, high=len(als_data), size=int(len(als_data)*0.1))"
   ]
  },
  {
   "cell_type": "code",
   "execution_count": 6,
   "metadata": {
    "collapsed": true
   },
   "outputs": [],
   "source": [
    "als_small_df = als_data.iloc[als_small_index, :]"
   ]
  },
  {
   "cell_type": "code",
   "execution_count": 21,
   "metadata": {
    "collapsed": true
   },
   "outputs": [],
   "source": [
    "als_spark_df = spark.createDataFrame(als_data)"
   ]
  },
  {
   "cell_type": "code",
   "execution_count": 22,
   "metadata": {
    "collapsed": false
   },
   "outputs": [
    {
     "data": {
      "text/plain": [
       "DataFrame[Unnamed: 0: bigint, user: bigint, board_game: bigint, rating: double]"
      ]
     },
     "execution_count": 22,
     "metadata": {},
     "output_type": "execute_result"
    }
   ],
   "source": [
    "als_spark_df.cache()"
   ]
  },
  {
   "cell_type": "code",
   "execution_count": 23,
   "metadata": {
    "collapsed": true
   },
   "outputs": [],
   "source": [
    "als_model = ALS(\n",
    "    itemCol='user',\n",
    "    userCol='board_game',\n",
    "    ratingCol='rating',\n",
    "    nonnegative=True,    \n",
    "    regParam=0.1,\n",
    "    rank=100,\n",
    "    maxIter=10\n",
    "    )"
   ]
  },
  {
   "cell_type": "code",
   "execution_count": 24,
   "metadata": {
    "collapsed": false
   },
   "outputs": [],
   "source": [
    "als_fit_model = als_model.fit(als_spark_df)"
   ]
  },
  {
   "cell_type": "code",
   "execution_count": 213,
   "metadata": {
    "collapsed": true
   },
   "outputs": [],
   "source": [
    "als_fit_model.save('als_model')"
   ]
  },
  {
   "cell_type": "code",
   "execution_count": 25,
   "metadata": {
    "collapsed": false
   },
   "outputs": [],
   "source": [
    "preds_train_data = als_fit_model.transform(als_spark_df)"
   ]
  },
  {
   "cell_type": "code",
   "execution_count": 26,
   "metadata": {
    "collapsed": false
   },
   "outputs": [
    {
     "name": "stdout",
     "output_type": "stream",
     "text": [
      "Root-mean-square error, rank=100, maxIter=10 = 0.552759981777\n"
     ]
    }
   ],
   "source": [
    "evaluator = RegressionEvaluator(metricName=\"rmse\", labelCol=\"rating\",\n",
    "                                predictionCol=\"prediction\")\n",
    "rmse = evaluator.evaluate(preds_train_data)\n",
    "print(\"Root-mean-square error, rank=100, maxIter=10 = \" + str(rmse))"
   ]
  },
  {
   "cell_type": "code",
   "execution_count": null,
   "metadata": {
    "collapsed": false
   },
   "outputs": [],
   "source": []
  },
  {
   "cell_type": "code",
   "execution_count": 15,
   "metadata": {
    "collapsed": false
   },
   "outputs": [],
   "source": [
    "# als_model_150_20 = ALS(\n",
    "#     itemCol='user',\n",
    "#     userCol='board_game',\n",
    "#     ratingCol='rating',\n",
    "#     nonnegative=True,    \n",
    "#     regParam=0.1,\n",
    "#     rank=150,\n",
    "#     maxIter=20\n",
    "#     )"
   ]
  },
  {
   "cell_type": "code",
   "execution_count": 16,
   "metadata": {
    "collapsed": false
   },
   "outputs": [],
   "source": [
    "# als_fit_model_150_20 = als_model_150_20.fit(als_small_spark_df)"
   ]
  },
  {
   "cell_type": "code",
   "execution_count": 17,
   "metadata": {
    "collapsed": true
   },
   "outputs": [],
   "source": [
    "# preds_train_data_150_20 = als_fit_model_150_20.transform(als_small_spark_df)"
   ]
  },
  {
   "cell_type": "code",
   "execution_count": 20,
   "metadata": {
    "collapsed": false
   },
   "outputs": [
    {
     "name": "stdout",
     "output_type": "stream",
     "text": [
      "Root-mean-square error, rank=150, maxIter=20 = 0.165427034306\n"
     ]
    }
   ],
   "source": [
    "# evaluator = RegressionEvaluator(metricName=\"rmse\", labelCol=\"rating\",\n",
    "#                                 predictionCol=\"prediction\")\n",
    "# rmse = evaluator.evaluate(preds_train_data_150_20)\n",
    "# print(\"Root-mean-square error, rank=150, maxIter=20 = \" + str(rmse))"
   ]
  },
  {
   "cell_type": "code",
   "execution_count": null,
   "metadata": {
    "collapsed": false
   },
   "outputs": [],
   "source": [
    "preds_train_df = preds_train_data.toPandas()"
   ]
  },
  {
   "cell_type": "code",
   "execution_count": 108,
   "metadata": {
    "collapsed": true
   },
   "outputs": [],
   "source": [
    "ratings_df = pd.read_csv('data/wa_ratings_data.csv')\n",
    "ratings_df = ratings_df.rename(columns={'Unnamed: 0':'Username'})\n",
    "ratings_df = ratings_df.set_index('Username')\n",
    "ratings_df.drop('Unnamed: 1', axis=1, inplace=True)\n",
    "null_ind = []\n",
    "for index in ratings_df.index:\n",
    "    if ratings_df.loc[index, :].isnull().all() == True:\n",
    "        null_ind.append(index)\n",
    "ratings_df.drop(null_ind, inplace=True)\n",
    "ratings_df.fillna(0, inplace=True)"
   ]
  },
  {
   "cell_type": "code",
   "execution_count": 215,
   "metadata": {
    "collapsed": true
   },
   "outputs": [],
   "source": [
    "ratings_df.to_csv('new_wa_ratings_data.csv')"
   ]
  },
  {
   "cell_type": "code",
   "execution_count": 110,
   "metadata": {
    "collapsed": false
   },
   "outputs": [
    {
     "data": {
      "text/plain": [
       "Username\n",
       "12thManStanding       0.0\n",
       "2 Salt City Gamers    0.0\n",
       "253bri                0.0\n",
       "2CoF                  0.0\n",
       "5th_Para_Bde          0.0\n",
       "ADiplomat             0.0\n",
       "AGKorson              0.0\n",
       "AGRAYDAY              0.0\n",
       "AGallela              0.0\n",
       "AJzer                 0.0\n",
       "AMcBain               0.0\n",
       "A_fungus              0.0\n",
       "AaronElWhite          0.0\n",
       "AbeLincoln            0.0\n",
       "Acruix                0.0\n",
       "Aesdel                0.0\n",
       "AesopDoom             0.0\n",
       "Affynity              0.0\n",
       "AgentDib              0.0\n",
       "Agrona                0.0\n",
       "Alayna                0.0\n",
       "AlexCPG               0.0\n",
       "Alita99               0.0\n",
       "Almighty Malachai     0.0\n",
       "Altauri               0.0\n",
       "AnNguyen              0.0\n",
       "AndrewPetty           0.0\n",
       "AndyLTD               0.0\n",
       "AndySzy               0.0\n",
       "AngryRedMan           0.0\n",
       "                     ... \n",
       "webwizardry           0.0\n",
       "weeemann              0.0\n",
       "wellerlance           0.0\n",
       "whisky_bear           0.0\n",
       "will98683             0.0\n",
       "willdo                0.0\n",
       "winteriscoming        0.0\n",
       "wiz8mom               0.0\n",
       "wolfboy193            0.0\n",
       "wolflord              8.5\n",
       "wsushutin             0.0\n",
       "wyat8865              0.0\n",
       "xFWx_FIREBIRD         0.0\n",
       "xagentman             0.0\n",
       "xandrellas            0.0\n",
       "xmixahlx              0.0\n",
       "yin yang              0.0\n",
       "youarenotwill         0.0\n",
       "youngren              0.0\n",
       "zackdale              0.0\n",
       "zathras42             0.0\n",
       "zcontest              0.0\n",
       "zebwinz               0.0\n",
       "zinschj               0.0\n",
       "zjensen3              0.0\n",
       "zodiacprime           0.0\n",
       "zoltron               0.0\n",
       "zontziry              0.0\n",
       "zszugyi               0.0\n",
       "zublord               9.5\n",
       "Name: Wiz-War, dtype: float64"
      ]
     },
     "execution_count": 110,
     "metadata": {},
     "output_type": "execute_result"
    }
   ],
   "source": [
    "ratings_df.loc[:, 'Wiz-War']"
   ]
  },
  {
   "cell_type": "code",
   "execution_count": 111,
   "metadata": {
    "collapsed": true
   },
   "outputs": [],
   "source": [
    "from scipy.spatial.distance import cosine\n",
    "import operator"
   ]
  },
  {
   "cell_type": "code",
   "execution_count": 112,
   "metadata": {
    "collapsed": false
   },
   "outputs": [],
   "source": [
    "new_user = pd.DataFrame({'new_user': {'Wiz-War':10, 'Terra Mystica':10, 'Twilight Imperium':10}}, index=ratings_df.columns).T\n",
    "new_user.fillna(0, inplace=True)"
   ]
  },
  {
   "cell_type": "code",
   "execution_count": 113,
   "metadata": {
    "collapsed": false
   },
   "outputs": [],
   "source": [
    "new_user.fillna(0, inplace=True)"
   ]
  },
  {
   "cell_type": "code",
   "execution_count": 114,
   "metadata": {
    "collapsed": false
   },
   "outputs": [],
   "source": [
    "test = ratings_df.loc['zublord', :]"
   ]
  },
  {
   "cell_type": "code",
   "execution_count": 115,
   "metadata": {
    "collapsed": false
   },
   "outputs": [],
   "source": [
    "cos_sim = cosine(new_user, test)"
   ]
  },
  {
   "cell_type": "code",
   "execution_count": 116,
   "metadata": {
    "collapsed": false
   },
   "outputs": [
    {
     "data": {
      "text/plain": [
       "0.92367710119104007"
      ]
     },
     "execution_count": 116,
     "metadata": {},
     "output_type": "execute_result"
    }
   ],
   "source": [
    "cos_sim"
   ]
  },
  {
   "cell_type": "code",
   "execution_count": 219,
   "metadata": {
    "collapsed": false
   },
   "outputs": [],
   "source": [
    "als_model = ALSModel.load('/Users/ericyatskowitz/galvanize_work/MeepleFinder/Erics_Web_App/als_model/')"
   ]
  },
  {
   "cell_type": "code",
   "execution_count": 220,
   "metadata": {
    "collapsed": false
   },
   "outputs": [],
   "source": [
    "cos_sim_dict = {}\n",
    "for ind in ratings_df.index:\n",
    "    cos_sim_dict[ind] = cosine(ratings_df.loc[ind, :], new_user)\n",
    "sorted_dict = sorted(cos_sim_dict.items(), key=operator.itemgetter(1))\n",
    "top_3 = sorted_dict[:3]\n",
    "top_3_keys = [user_index[top_3[i][0]] for i in xrange(len(top_3))]\n",
    "user_input_df = []\n",
    "for user in top_3_keys:\n",
    "    user_df = pd.DataFrame(list(product([user], als_data['board_game'].unique())))\n",
    "    user_df = user_df.rename(columns={0:'user', 1:'board_game'})\n",
    "    user_input_df.append(spark.createDataFrame(user_df))\n",
    "pred_array = np.zeros((1, len(als_data['board_game'].unique())))\n",
    "for user in user_input_df:\n",
    "    pred_array += als_model.transform(user).toPandas()['prediction'].values\n",
    "    top_3_games = []\n",
    "for i in xrange(3):\n",
    "    top_3_games.append(pred_array.argmax())\n",
    "    pred_array = np.delete(pred_array, pred_array.argmax())\n",
    "games = []\n",
    "for ind in top_3_games:\n",
    "    games.append(board_games[ind])\n",
    "new_game1 = games[0]\n",
    "new_game2 = games[1]\n",
    "new_game3 = games[2]"
   ]
  },
  {
   "cell_type": "code",
   "execution_count": 222,
   "metadata": {
    "collapsed": false
   },
   "outputs": [
    {
     "name": "stdout",
     "output_type": "stream",
     "text": [
      "Battlefield: Europe,18PA (First Edition),Bywater's War: Command at Sea XI\n"
     ]
    }
   ],
   "source": [
    "print new_game1 + ',' + new_game2 + ',' + new_game3"
   ]
  },
  {
   "cell_type": "code",
   "execution_count": 172,
   "metadata": {
    "collapsed": false
   },
   "outputs": [
    {
     "data": {
      "text/plain": [
       "[708, 766, 841]"
      ]
     },
     "execution_count": 172,
     "metadata": {},
     "output_type": "execute_result"
    }
   ],
   "source": [
    "top_3_keys"
   ]
  },
  {
   "cell_type": "code",
   "execution_count": null,
   "metadata": {
    "collapsed": true
   },
   "outputs": [],
   "source": []
  },
  {
   "cell_type": "code",
   "execution_count": null,
   "metadata": {
    "collapsed": true
   },
   "outputs": [],
   "source": []
  },
  {
   "cell_type": "code",
   "execution_count": 160,
   "metadata": {
    "collapsed": true
   },
   "outputs": [],
   "source": [
    "user_0_df = pd.DataFrame(list(product([0], als_data['board_game'].unique())))\n",
    "user_0_df = user_0_df.rename(columns={0:'user', 1:'board_game'})\n",
    "user_0 = spark.createDataFrame(user_0_df)"
   ]
  },
  {
   "cell_type": "code",
   "execution_count": null,
   "metadata": {
    "collapsed": false
   },
   "outputs": [],
   "source": [
    "preds_user_0 = als_fit_model.transform(user_0)"
   ]
  },
  {
   "cell_type": "code",
   "execution_count": null,
   "metadata": {
    "collapsed": true
   },
   "outputs": [],
   "source": [
    "preds_user_0_df = preds_user_0.toPandas()"
   ]
  },
  {
   "cell_type": "code",
   "execution_count": null,
   "metadata": {
    "collapsed": false
   },
   "outputs": [],
   "source": [
    "sorted_preds_user_0 = preds_user_0_df.sort_values('prediction')"
   ]
  },
  {
   "cell_type": "code",
   "execution_count": null,
   "metadata": {
    "collapsed": false
   },
   "outputs": [],
   "source": [
    "top_games = []\n",
    "rated_games_user_0 = als_data[als_data['user'] == 0]['board_game'].values\n",
    "games = list(sorted_preds_user_0['board_game'].values)\n",
    "while len(top_games) < 5:\n",
    "    game = games.pop()\n",
    "    if game in rated_games_user_0:\n",
    "        continue\n",
    "    else:\n",
    "        top_games.append(board_games[game])"
   ]
  },
  {
   "cell_type": "code",
   "execution_count": null,
   "metadata": {
    "collapsed": false
   },
   "outputs": [],
   "source": [
    "top_games"
   ]
  },
  {
   "cell_type": "code",
   "execution_count": null,
   "metadata": {
    "collapsed": false
   },
   "outputs": [],
   "source": [
    "sorted_df = predictions_df.sort_values(['user', 'board_game'])"
   ]
  },
  {
   "cell_type": "code",
   "execution_count": null,
   "metadata": {
    "collapsed": false
   },
   "outputs": [],
   "source": [
    "sorted_df"
   ]
  },
  {
   "cell_type": "code",
   "execution_count": null,
   "metadata": {
    "collapsed": false
   },
   "outputs": [],
   "source": [
    "als_model = "
   ]
  },
  {
   "cell_type": "code",
   "execution_count": null,
   "metadata": {
    "collapsed": true
   },
   "outputs": [],
   "source": []
  }
 ],
 "metadata": {
  "anaconda-cloud": {},
  "kernelspec": {
   "display_name": "Python [default]",
   "language": "python",
   "name": "python2"
  },
  "language_info": {
   "codemirror_mode": {
    "name": "ipython",
    "version": 2
   },
   "file_extension": ".py",
   "mimetype": "text/x-python",
   "name": "python",
   "nbconvert_exporter": "python",
   "pygments_lexer": "ipython2",
   "version": "2.7.12"
  }
 },
 "nbformat": 4,
 "nbformat_minor": 1
}
