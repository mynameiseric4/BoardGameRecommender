{
 "cells": [
  {
   "cell_type": "code",
   "execution_count": null,
   "metadata": {
    "collapsed": false
   },
   "outputs": [
    {
     "name": "stdout",
     "output_type": "stream",
     "text": [
      "2017-03-17 08:30:41.109028\n"
     ]
    }
   ],
   "source": [
    "import time\n",
    "import selenium.webdriver\n",
    "from bs4 import BeautifulSoup\n",
    "import itertools\n",
    "import pandas as pd\n",
    "import numpy as np\n",
    "import re\n",
    "import boto3\n",
    "from selenium.common.exceptions import NoSuchElementException, StaleElementReferenceException\n",
    "import os\n",
    "import datetime\n",
    "print datetime.datetime.now()\n",
    "\n",
    "s3_client = boto3.client('s3')\n",
    "data = s3_client.get_object(Bucket='capstone-eric', Key='data/us_users_urls.csv')['Body'].read()\n",
    "\n",
    "us_user_urls = data.split(',')\n",
    "for i, user in enumerate(us_user_urls):\n",
    "    us_user_urls[i] = str(user.strip('\\\"'))\n",
    "\n",
    "\n",
    "def get_boardgamegeek_user_info(query, browser, delay=5):\n",
    "    user_info = []\n",
    "    search_url = \"https://boardgamegeek.com/collection{}?rated=1&subtype=boardgame&ff=1\".format(query)\n",
    "    browser.get(search_url)\n",
    "    while True:\n",
    "        html = browser.page_source\n",
    "        soup = BeautifulSoup(html, 'html.parser')\n",
    "        product_tags = soup.find_all('tr', {\"id\": lambda x: x and x.startswith('row')})\n",
    "        user_info.append([get_user_info(t) for t in product_tags])\n",
    "        try:\n",
    "            browser.find_element_by_link_text('»').click()\n",
    "        except NoSuchElementException:\n",
    "            html = browser.page_source\n",
    "            soup = BeautifulSoup(html, 'html.parser')\n",
    "            product_tags = soup.find_all('tr', {\"id\": lambda x: x and x.startswith('row')})\n",
    "            user_info.append([get_user_info(t) for t in product_tags])\n",
    "            break\n",
    "    time.sleep(delay)\n",
    "    ratings = []\n",
    "    for i in xrange(1, len(user_info)):\n",
    "        ratings += user_info[i]\n",
    "    return list(set(ratings))\n",
    "\n",
    "\n",
    "def get_user_info(product_tag):\n",
    "    title_elements = product_tag.find_all(\"div\")\n",
    "    if title_elements:\n",
    "        rated_games = title_elements[1].text.split()[:-1]\n",
    "        rated_games = ' '.join(rated_games)\n",
    "        if rated_games == u'':\n",
    "            rated_games = title_elements[1].text.split()\n",
    "            rated_games = ' '.join(rated_games)\n",
    "        ratings = title_elements[7].text.split()[0]\n",
    "        date = ' '.join(title_elements[8].text.split()[0:2])\n",
    "        date = date.strip('*')\n",
    "        return rated_games, float(ratings), date\n",
    "\n",
    "\n",
    "browser = selenium.webdriver.PhantomJS('/Users/ericyatskowitz/galvanize_work/capstone/phantomjs-2.1.1-macosx/bin/phantomjs')\n",
    "user_info = {}\n",
    "count = 0\n",
    "for url in us_user_urls[3700:]:\n",
    "    try:\n",
    "        user = url.split('/')[2]\n",
    "        user_ratings = get_boardgamegeek_user_info(url, browser)\n",
    "        user_info[user] = user_ratings\n",
    "        time.sleep(5)\n",
    "        count += 1\n",
    "        if count % 100 == 0:\n",
    "            np.save('us_ratings_data_4.npy', user_info)\n",
    "            print 'scraped the next 100 users, count = {}'.format(count)\n",
    "            print datetime.datetime.now()\n",
    "    except StaleElementReferenceException:\n",
    "        continue\n",
    "browser.quit()\n",
    "\n",
    "np.save('us_ratings_data_4.npy', user_info)\n",
    "print datetime.datetime.now()"
   ]
  },
  {
   "cell_type": "code",
   "execution_count": 38,
   "metadata": {
    "collapsed": false
   },
   "outputs": [
    {
     "data": {
      "text/plain": [
       "'/user/Foreigner'"
      ]
     },
     "execution_count": 38,
     "metadata": {},
     "output_type": "execute_result"
    }
   ],
   "source": [
    "us_user_urls[0]"
   ]
  },
  {
   "cell_type": "code",
   "execution_count": null,
   "metadata": {
    "collapsed": true
   },
   "outputs": [],
   "source": []
  }
 ],
 "metadata": {
  "anaconda-cloud": {},
  "kernelspec": {
   "display_name": "Python [default]",
   "language": "python",
   "name": "python2"
  },
  "language_info": {
   "codemirror_mode": {
    "name": "ipython",
    "version": 2
   },
   "file_extension": ".py",
   "mimetype": "text/x-python",
   "name": "python",
   "nbconvert_exporter": "python",
   "pygments_lexer": "ipython2",
   "version": "2.7.12"
  }
 },
 "nbformat": 4,
 "nbformat_minor": 1
}
