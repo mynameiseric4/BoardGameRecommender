{
 "cells": [
  {
   "cell_type": "code",
   "execution_count": 36,
   "metadata": {
    "collapsed": false
   },
   "outputs": [
    {
     "data": {
      "text/plain": [
       "{u'ETag': '\"2f904a5cbc70c19081c2bc502572319a\"',\n",
       " 'ResponseMetadata': {'HTTPHeaders': {'content-length': '0',\n",
       "   'date': 'Thu, 16 Mar 2017 02:12:41 GMT',\n",
       "   'etag': '\"2f904a5cbc70c19081c2bc502572319a\"',\n",
       "   'server': 'AmazonS3',\n",
       "   'x-amz-id-2': 'JRd2umaU0dvu8NzC+YlA9MYJiYW7KOWvDZEhsJDUOBbKdZ6eCkn6g1gthuwSeIILejURhR3Remc=',\n",
       "   'x-amz-request-id': '3A0E9BB55CC777AE'},\n",
       "  'HTTPStatusCode': 200,\n",
       "  'HostId': 'JRd2umaU0dvu8NzC+YlA9MYJiYW7KOWvDZEhsJDUOBbKdZ6eCkn6g1gthuwSeIILejURhR3Remc=',\n",
       "  'RequestId': '3A0E9BB55CC777AE',\n",
       "  'RetryAttempts': 0}}"
      ]
     },
     "execution_count": 36,
     "metadata": {},
     "output_type": "execute_result"
    }
   ],
   "source": [
    "import time\n",
    "import selenium.webdriver\n",
    "from bs4 import BeautifulSoup\n",
    "import itertools\n",
    "import pandas as pd\n",
    "import numpy as np\n",
    "import re\n",
    "import boto3\n",
    "from selenium.common.exceptions import NoSuchElementException\n",
    "import os\n",
    "\n",
    "s3_client = boto3.client('s3')\n",
    "data = s3_client.get_object(Bucket='capstone-eric', Key='data/us_users_urls.csv')['Body'].read()\n",
    "\n",
    "us_user_urls = data.split(',')\n",
    "for i, user in enumerate(us_user_urls):\n",
    "    us_user_urls[i] = str(user.strip('\\\"'))\n",
    "\n",
    "\n",
    "def get_boardgamegeek_user_info(query, browser, delay=5):\n",
    "    user_info = []\n",
    "    search_url = \"https://boardgamegeek.com/collection{}?rated=1&subtype=boardgame&ff=1\".format(query)\n",
    "    browser.get(search_url)\n",
    "    while True:\n",
    "        html = browser.page_source\n",
    "        soup = BeautifulSoup(html, 'html.parser')\n",
    "        product_tags = soup.find_all('tr', {\"id\": lambda x: x and x.startswith('row')})\n",
    "        user_info.append([get_user_info(t) for t in product_tags])\n",
    "        try:\n",
    "            browser.find_element_by_link_text('»').click()\n",
    "        except NoSuchElementException:\n",
    "            html = browser.page_source\n",
    "            soup = BeautifulSoup(html, 'html.parser')\n",
    "            product_tags = soup.find_all('tr', {\"id\": lambda x: x and x.startswith('row')})\n",
    "            user_info.append([get_user_info(t) for t in product_tags])\n",
    "            break\n",
    "    time.sleep(delay)\n",
    "    ratings = []\n",
    "    for i in xrange(1, len(user_info)):\n",
    "        ratings += user_info[i]\n",
    "    return list(set(ratings))\n",
    "\n",
    "\n",
    "def get_user_info(product_tag):\n",
    "    title_elements = product_tag.find_all(\"div\")\n",
    "    if title_elements:\n",
    "        rated_games = title_elements[1].text.split()[:-1]\n",
    "        rated_games = ' '.join(rated_games)\n",
    "        if rated_games == u'':\n",
    "            rated_games = title_elements[1].text.split()\n",
    "            rated_games = ' '.join(rated_games)\n",
    "        ratings = title_elements[7].text.split()[0]\n",
    "        date = ' '.join(title_elements[8].text.split()[0:2])\n",
    "        date = date.strip('*')\n",
    "        return rated_games, float(ratings), date\n",
    "\n",
    "\n",
    "browser = selenium.webdriver.PhantomJS(executable_path='/Users/ericyatskowitz/galvanize_work/capstone/phantomjs-2.1.1-macosx/bin/phantomjs')\n",
    "user_info = {}\n",
    "count = 0\n",
    "for url in us_user_urls[0:1]:\n",
    "    user = url.split('/')[2]\n",
    "    user_ratings = get_boardgamegeek_user_info(url, browser)\n",
    "    user_info[user] = user_ratings\n",
    "    time.sleep(5)\n",
    "    count += 1\n",
    "    if count % 1000 == 0:\n",
    "        user_info_str = str(user_info)\n",
    "        s3_client.put_object(Bucket='capstone-eric', Key='data/us_ratings_data.npy', Body=user_info_str)\n",
    "browser.quit()\n",
    "\n",
    "user_info_str = str(user_info)\n",
    "s3_client.put_object(Bucket='capstone-eric', Key='data/us_ratings_data.npy', Body=user_info_str)"
   ]
  },
  {
   "cell_type": "code",
   "execution_count": 29,
   "metadata": {
    "collapsed": false
   },
   "outputs": [
    {
     "ename": "IndexError",
     "evalue": "list index out of range",
     "output_type": "error",
     "traceback": [
      "\u001b[0;31m---------------------------------------------------------------------------\u001b[0m",
      "\u001b[0;31mIndexError\u001b[0m                                Traceback (most recent call last)",
      "\u001b[0;32m<ipython-input-29-57a2ac028f43>\u001b[0m in \u001b[0;36m<module>\u001b[0;34m()\u001b[0m\n\u001b[0;32m----> 1\u001b[0;31m \u001b[0mus_user_urls\u001b[0m\u001b[0;34m[\u001b[0m\u001b[0;36m1\u001b[0m\u001b[0;34m]\u001b[0m\u001b[0;34m\u001b[0m\u001b[0m\n\u001b[0m",
      "\u001b[0;31mIndexError\u001b[0m: list index out of range"
     ]
    }
   ],
   "source": [
    "us_user_urls[1]"
   ]
  },
  {
   "cell_type": "code",
   "execution_count": null,
   "metadata": {
    "collapsed": true
   },
   "outputs": [],
   "source": []
  }
 ],
 "metadata": {
  "kernelspec": {
   "display_name": "Python [default]",
   "language": "python",
   "name": "python2"
  },
  "language_info": {
   "codemirror_mode": {
    "name": "ipython",
    "version": 2
   },
   "file_extension": ".py",
   "mimetype": "text/x-python",
   "name": "python",
   "nbconvert_exporter": "python",
   "pygments_lexer": "ipython2",
   "version": "2.7.12"
  }
 },
 "nbformat": 4,
 "nbformat_minor": 1
}
